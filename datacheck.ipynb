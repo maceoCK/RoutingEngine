{
 "cells": [
  {
   "cell_type": "code",
   "execution_count": 6,
   "metadata": {},
   "outputs": [
    {
     "name": "stdout",
     "output_type": "stream",
     "text": [
      "                                           locations\n",
      "0  {'coordinates': {'latitude': 37.23376399865852...\n",
      "1  {'coordinates': {'latitude': 37.22510647241181...\n",
      "2  {'coordinates': {'latitude': 37.23412164261865...\n",
      "3  {'coordinates': {'latitude': 37.23467817316912...\n",
      "4  {'coordinates': {'latitude': 37.22507253576990...\n"
     ]
    }
   ],
   "source": [
    "import json\n",
    "import pandas as pd\n",
    "import numpy as np\n",
    "from typing import Tuple\n",
    "import math\n",
    "\n",
    "read_data = pd.read_json(\"fakeLocationData.json\")\n",
    "\n",
    "print(read_data.head())"
   ]
  },
  {
   "cell_type": "code",
   "execution_count": 7,
   "metadata": {},
   "outputs": [],
   "source": [
    "def haversine(coord1: Tuple[float, float], coord2: Tuple[float, float]) -> float:\n",
    "    \"\"\"\n",
    "    Calculate the great-circle distance between two points on the Earth using the Haversine formula.\n",
    "    \"\"\"\n",
    "    R = 6371.0  # Earth radius in kilometers\n",
    "\n",
    "    lat1, lon1 = coord1\n",
    "    lat2, lon2 = coord2\n",
    "\n",
    "    # Convert latitude and longitude from degrees to radians\n",
    "    phi1 = math.radians(lat1)\n",
    "    phi2 = math.radians(lat2)\n",
    "    delta_phi = math.radians(lat2 - lat1)\n",
    "    delta_lambda = math.radians(lon2 - lon1)\n",
    "\n",
    "    # Haversine formula\n",
    "    a = (\n",
    "        math.sin(delta_phi / 2.0) ** 2\n",
    "        + math.cos(phi1) * math.cos(phi2) * math.sin(delta_lambda / 2.0) ** 2\n",
    "    )\n",
    "    c = 2.0 * math.atan2(math.sqrt(a), math.sqrt(1 - a))\n",
    "\n",
    "    # Distance in kilometers\n",
    "    distance = R * c\n",
    "\n",
    "    return distance\n"
   ]
  },
  {
   "cell_type": "code",
   "execution_count": 8,
   "metadata": {},
   "outputs": [
    {
     "name": "stdout",
     "output_type": "stream",
     "text": [
      "Average distance spread: 1.721725970521828 km\n",
      "Average time spread: 1227.2727272727273 seconds\n"
     ]
    }
   ],
   "source": [
    "# print average spread of distance\n",
    "# print average spread of time\n",
    "from datetime import datetime\n",
    "\n",
    "def calculate_average_spread(data):\n",
    "    locations = data[\"locations\"]\n",
    "    num_locations = len(locations)\n",
    "    \n",
    "    if num_locations < 2:\n",
    "        return 0, 0\n",
    "\n",
    "    total_distance = 0\n",
    "    total_time_diff = 0\n",
    "\n",
    "    for i in range(num_locations - 1):\n",
    "        coord1 = (locations[i][\"coordinates\"][\"latitude\"], locations[i][\"coordinates\"][\"longitude\"])\n",
    "        coord2 = (locations[i + 1][\"coordinates\"][\"latitude\"], locations[i + 1][\"coordinates\"][\"longitude\"])\n",
    "        total_distance += haversine(coord1, coord2)\n",
    "\n",
    "        time1 = datetime.fromisoformat(locations[i][\"requestTime\"])\n",
    "        time2 = datetime.fromisoformat(locations[i + 1][\"requestTime\"])\n",
    "        total_time_diff += abs((time2 - time1).total_seconds())\n",
    "\n",
    "    avg_distance_spread = total_distance / (num_locations - 1)\n",
    "    avg_time_spread = total_time_diff / (num_locations - 1)\n",
    "\n",
    "    return avg_distance_spread, avg_time_spread\n",
    "\n",
    "avg_distance_spread, avg_time_spread = calculate_average_spread(read_data)\n",
    "print(f\"Average distance spread: {avg_distance_spread} km\")\n",
    "print(f\"Average time spread: {avg_time_spread} seconds\")\n"
   ]
  }
 ],
 "metadata": {
  "kernelspec": {
   "display_name": "base",
   "language": "python",
   "name": "python3"
  },
  "language_info": {
   "codemirror_mode": {
    "name": "ipython",
    "version": 3
   },
   "file_extension": ".py",
   "mimetype": "text/x-python",
   "name": "python",
   "nbconvert_exporter": "python",
   "pygments_lexer": "ipython3",
   "version": "3.11.7"
  }
 },
 "nbformat": 4,
 "nbformat_minor": 2
}
